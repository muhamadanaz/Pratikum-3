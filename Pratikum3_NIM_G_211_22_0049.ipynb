{
  "nbformat": 4,
  "nbformat_minor": 0,
  "metadata": {
    "colab": {
      "provenance": [],
      "authorship_tag": "ABX9TyM/YF6w7Q0x+QVUi8PFLHiR",
      "include_colab_link": true
    },
    "kernelspec": {
      "name": "python3",
      "display_name": "Python 3"
    },
    "language_info": {
      "name": "python"
    }
  },
  "cells": [
    {
      "cell_type": "markdown",
      "metadata": {
        "id": "view-in-github",
        "colab_type": "text"
      },
      "source": [
        "<a href=\"https://colab.research.google.com/github/muhamadanaz/Pratikum-3/blob/main/Pratikum3_NIM_G_211_22_0049.ipynb\" target=\"_parent\"><img src=\"https://colab.research.google.com/assets/colab-badge.svg\" alt=\"Open In Colab\"/></a>"
      ]
    },
    {
      "cell_type": "code",
      "execution_count": 1,
      "metadata": {
        "colab": {
          "base_uri": "https://localhost:8080/"
        },
        "id": "TneDydxeFf5N",
        "outputId": "d8102650-a2be-4282-d058-30dadd295321"
      },
      "outputs": [
        {
          "output_type": "stream",
          "name": "stdout",
          "text": [
            "Output: programming\n"
          ]
        }
      ],
      "source": [
        "# Input list karakter\n",
        "list_karakter = ['p', 'r', 'o', 'g', 'r', 'a', 'm', 'm', 'i', 'n', 'g']\n",
        "\n",
        "# Menggunakan metode join untuk menggabungkan karakter menjadi string\n",
        "string_hasil = ''.join(list_karakter)\n",
        "\n",
        "# Menampilkan hasil\n",
        "print(\"Output:\", string_hasil)\n"
      ]
    }
  ]
}